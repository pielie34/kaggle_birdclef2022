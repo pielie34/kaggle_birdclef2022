{
 "cells": [
  {
   "cell_type": "code",
   "execution_count": 1,
   "id": "4364164b",
   "metadata": {
    "_cell_guid": "b1076dfc-b9ad-4769-8c92-a6c4dae69d19",
    "_uuid": "8f2839f25d086af736a60e9eeb907d3b93b6e0e5",
    "execution": {
     "iopub.execute_input": "2022-05-24T05:45:51.803528Z",
     "iopub.status.busy": "2022-05-24T05:45:51.803124Z",
     "iopub.status.idle": "2022-05-24T05:45:53.821970Z",
     "shell.execute_reply": "2022-05-24T05:45:53.821103Z"
    },
    "papermill": {
     "duration": 2.04143,
     "end_time": "2022-05-24T05:45:53.824164",
     "exception": false,
     "start_time": "2022-05-24T05:45:51.782734",
     "status": "completed"
    },
    "tags": []
   },
   "outputs": [],
   "source": [
    "import os\n",
    "import json\n",
    "import tqdm\n",
    "import random\n",
    "import shutil\n",
    "import pandas as pd\n",
    "import numpy as np\n",
    "import torch\n",
    "import torch.optim as optim\n",
    "import torch.nn as nn\n",
    "from torch.utils.data import DataLoader\n",
    "import torchaudio\n",
    "import torchaudio.transforms as T\n",
    "from torchvision.models.resnet import ResNet, BasicBlock\n",
    "\n",
    "import matplotlib.pyplot as plt"
   ]
  },
  {
   "cell_type": "code",
   "execution_count": 2,
   "id": "76c47a42",
   "metadata": {
    "execution": {
     "iopub.execute_input": "2022-05-24T05:45:53.857484Z",
     "iopub.status.busy": "2022-05-24T05:45:53.857280Z",
     "iopub.status.idle": "2022-05-24T05:45:53.921657Z",
     "shell.execute_reply": "2022-05-24T05:45:53.920811Z"
    },
    "papermill": {
     "duration": 0.083671,
     "end_time": "2022-05-24T05:45:53.923952",
     "exception": false,
     "start_time": "2022-05-24T05:45:53.840281",
     "status": "completed"
    },
    "tags": []
   },
   "outputs": [
    {
     "name": "stdout",
     "output_type": "stream",
     "text": [
      "Using cuda device\n"
     ]
    }
   ],
   "source": [
    "device = \"cuda\" if torch.cuda.is_available() else \"cpu\"\n",
    "print(f\"Using {device} device\")"
   ]
  },
  {
   "cell_type": "markdown",
   "id": "5d581fa0",
   "metadata": {
    "papermill": {
     "duration": 0.016319,
     "end_time": "2022-05-24T05:45:53.957177",
     "exception": false,
     "start_time": "2022-05-24T05:45:53.940858",
     "status": "completed"
    },
    "tags": []
   },
   "source": [
    "### Загрузим данные"
   ]
  },
  {
   "cell_type": "code",
   "execution_count": 3,
   "id": "4005731f",
   "metadata": {
    "execution": {
     "iopub.execute_input": "2022-05-24T05:45:53.990187Z",
     "iopub.status.busy": "2022-05-24T05:45:53.989739Z",
     "iopub.status.idle": "2022-05-24T05:45:54.107643Z",
     "shell.execute_reply": "2022-05-24T05:45:54.106811Z"
    },
    "papermill": {
     "duration": 0.1378,
     "end_time": "2022-05-24T05:45:54.110901",
     "exception": false,
     "start_time": "2022-05-24T05:45:53.973101",
     "status": "completed"
    },
    "tags": []
   },
   "outputs": [],
   "source": [
    "root_path = \"../input/birdclef-2022/\"\n",
    "input_path = root_path + '/train_audio/'\n",
    "out_path = \"./train/\"\n",
    "\n",
    "try:\n",
    "    os.mkdir(out_path)\n",
    "except FileExistsError:\n",
    "    pass\n",
    "\n",
    "\n",
    "train_meta = pd.read_csv(root_path + 'train_metadata.csv')\n",
    "\n",
    "with open(root_path + '/scored_birds.json') as sbfile:\n",
    "    scored_birds = json.load(sbfile)"
   ]
  },
  {
   "cell_type": "code",
   "execution_count": 4,
   "id": "796a10e6",
   "metadata": {
    "execution": {
     "iopub.execute_input": "2022-05-24T05:45:54.192450Z",
     "iopub.status.busy": "2022-05-24T05:45:54.192130Z",
     "iopub.status.idle": "2022-05-24T05:45:54.227334Z",
     "shell.execute_reply": "2022-05-24T05:45:54.226281Z"
    },
    "papermill": {
     "duration": 0.080836,
     "end_time": "2022-05-24T05:45:54.229926",
     "exception": false,
     "start_time": "2022-05-24T05:45:54.149090",
     "status": "completed"
    },
    "tags": []
   },
   "outputs": [
    {
     "name": "stdout",
     "output_type": "stream",
     "text": [
      "['akiapo' 'aniani' 'apapan' 'barpet' 'crehon' 'elepai' 'ercfra' 'hawama'\n",
      " 'hawcre' 'hawgoo' 'hawhaw' 'hawpet1' 'houfin' 'iiwi' 'jabwar' 'maupar'\n",
      " 'omao' 'puaioh' 'skylar' 'warwhe1' 'yefcan']\n"
     ]
    }
   ],
   "source": [
    "train_meta = train_meta[train_meta['primary_label'].isin(scored_birds)]\n",
    "bird_label = train_meta[\"primary_label\"].unique()\n",
    "print(bird_label)"
   ]
  },
  {
   "cell_type": "markdown",
   "id": "f36ef49c",
   "metadata": {
    "papermill": {
     "duration": 0.032581,
     "end_time": "2022-05-24T05:45:54.294691",
     "exception": false,
     "start_time": "2022-05-24T05:45:54.262110",
     "status": "completed"
    },
    "tags": []
   },
   "source": [
    "### Параметры спектрограмм"
   ]
  },
  {
   "cell_type": "code",
   "execution_count": 5,
   "id": "f08f37fb",
   "metadata": {
    "execution": {
     "iopub.execute_input": "2022-05-24T05:45:54.373974Z",
     "iopub.status.busy": "2022-05-24T05:45:54.368889Z",
     "iopub.status.idle": "2022-05-24T05:45:54.464923Z",
     "shell.execute_reply": "2022-05-24T05:45:54.464123Z"
    },
    "papermill": {
     "duration": 0.138891,
     "end_time": "2022-05-24T05:45:54.467380",
     "exception": false,
     "start_time": "2022-05-24T05:45:54.328489",
     "status": "completed"
    },
    "tags": []
   },
   "outputs": [],
   "source": [
    "sample_rate = 32000\n",
    "n_fft = 4096\n",
    "win_length = None\n",
    "hop_length = 512\n",
    "n_mels = 256\n",
    "min_sec_proc = sample_rate*5\n",
    "f_min = 1000\n",
    "\n",
    "mel_spectrogram = T.MelSpectrogram(\n",
    "    sample_rate=sample_rate,\n",
    "    n_fft=n_fft,\n",
    "    win_length=win_length,\n",
    "    hop_length=hop_length,\n",
    "    center=True,\n",
    "    f_min=f_min,\n",
    "    pad_mode=\"reflect\",\n",
    "    power=2.0,\n",
    "    norm='slaney',\n",
    "    onesided=True,\n",
    "    n_mels=n_mels,\n",
    "    mel_scale=\"htk\",\n",
    ")"
   ]
  },
  {
   "cell_type": "code",
   "execution_count": 6,
   "id": "2071cb9c",
   "metadata": {
    "execution": {
     "iopub.execute_input": "2022-05-24T05:45:54.578427Z",
     "iopub.status.busy": "2022-05-24T05:45:54.577814Z",
     "iopub.status.idle": "2022-05-24T05:45:54.647091Z",
     "shell.execute_reply": "2022-05-24T05:45:54.646428Z"
    },
    "papermill": {
     "duration": 0.127872,
     "end_time": "2022-05-24T05:45:54.651159",
     "exception": false,
     "start_time": "2022-05-24T05:45:54.523287",
     "status": "completed"
    },
    "tags": []
   },
   "outputs": [],
   "source": [
    "def torch_fix_seed(seed=34):\n",
    "    # Python random\n",
    "    random.seed(seed)\n",
    "    # Numpy\n",
    "    np.random.seed(seed)\n",
    "    # Pytorch\n",
    "    torch.manual_seed(seed)\n",
    "    torch.cuda.manual_seed(seed)\n",
    "    torch.backends.cudnn.deterministic = True\n",
    "    torch.use_deterministic_algorithms = True\n",
    "    \n",
    "    \n",
    "def normalize_std(spec):\n",
    "    return (spec - torch.mean(spec)) / torch.std(spec)\n",
    "    \n",
    "    \n",
    "def audio_to_mel_label(filepath, min_sec_proc, mode='train', data_index=0, label_list=[], bird_label=[], label_file=[], mel_list=[]):\n",
    "    if mode == 'train':\n",
    "        label_file_all = np.zeros(bird_label.shape)\n",
    "        for label_file_temp in label_file:\n",
    "            label_file_all += (label_file_temp == bird_label)\n",
    "        label_file_all = np.clip(label_file_all, 0, 1)\n",
    "    \n",
    "    waveform, sample_rate_file = torchaudio.load(filepath=filepath)\n",
    "    len_wav = waveform.shape[1]\n",
    "    waveform = waveform[0,:].reshape(1, len_wav) # stereo->mono mono->mono\n",
    "    if mode == 'train':\n",
    "        if len_wav < min_sec_proc:\n",
    "            for _ in range(round(min_sec_proc/len_wav)):\n",
    "                waveform = torch.cat((waveform,waveform[:,0:len_wav]),1)\n",
    "            len_wav = min_sec_proc\n",
    "            waveform = waveform[:,0:len_wav]\n",
    "    elif mode == 'test':\n",
    "        if not len_wav < min_sec_proc*12:\n",
    "            waveform = torch.cat((waveform,waveform[:,0:len_wav]),1)\n",
    "            len_wav = min_sec_proc*12\n",
    "            waveform = waveform[:,0:len_wav]\n",
    "\n",
    "    for index in range(int(len_wav/min_sec_proc)):\n",
    "        log_melspec = torch.log10(mel_spectrogram(waveform[0, index*min_sec_proc:index*min_sec_proc+min_sec_proc]).unsqueeze(0)+1e-10)\n",
    "        log_melspec = normalize_std(log_melspec)\n",
    "        if mode == 'train':\n",
    "            torch.save(log_melspec, out_path + str(data_index) + '.pt')\n",
    "            label_list.append(label_file_all)\n",
    "            data_index += 1\n",
    "        elif mode == 'test':\n",
    "            mel_list.append(log_melspec)\n",
    "            \n",
    "    if mode == 'train':\n",
    "        return data_index\n",
    "    elif mode == 'test':\n",
    "        return mel_list\n",
    "    \n",
    "\n",
    "def load_tensor(path, file_name):\n",
    "    return torch.load(path + str(file_name) + '.pt')\n",
    "\n",
    "\n",
    "def get_X_y(path, idx, label_list):\n",
    "    batch_X = torch.stack([load_tensor(path, x.item()) for x in idx])\n",
    "    batch_y = torch.stack([label_list[x.item()] for x in idx])\n",
    "    return batch_X, batch_y\n",
    "\n",
    "        \n",
    "def plot_history(history):\n",
    "    plt.figure(figsize=(10, 10)) \n",
    "    plt.plot(history[:,0], history[:,1], label='loss')\n",
    "    plt.plot(history[:,0], history[:,2], label='val_loss')\n",
    "    plt.xlabel('epoch')\n",
    "    plt.ylabel('loss')\n",
    "    plt.legend()\n",
    "    \n",
    "    \n",
    "torch_fix_seed()"
   ]
  },
  {
   "cell_type": "markdown",
   "id": "288d5aad",
   "metadata": {
    "papermill": {
     "duration": 0.060729,
     "end_time": "2022-05-24T05:45:54.778523",
     "exception": false,
     "start_time": "2022-05-24T05:45:54.717794",
     "status": "completed"
    },
    "tags": []
   },
   "source": [
    "### Получим мел-спектрограммы"
   ]
  },
  {
   "cell_type": "code",
   "execution_count": 7,
   "id": "306d450a",
   "metadata": {
    "execution": {
     "iopub.execute_input": "2022-05-24T05:45:54.878524Z",
     "iopub.status.busy": "2022-05-24T05:45:54.878196Z",
     "iopub.status.idle": "2022-05-24T05:50:16.661989Z",
     "shell.execute_reply": "2022-05-24T05:50:16.661314Z"
    },
    "papermill": {
     "duration": 261.830922,
     "end_time": "2022-05-24T05:50:16.663761",
     "exception": false,
     "start_time": "2022-05-24T05:45:54.832839",
     "status": "completed"
    },
    "tags": []
   },
   "outputs": [
    {
     "data": {
      "application/vnd.jupyter.widget-view+json": {
       "model_id": "5cc0efc74a40457780eb1e35df85be13",
       "version_major": 2,
       "version_minor": 0
      },
      "text/plain": [
       "  0%|          | 0/1266 [00:00<?, ?it/s]"
      ]
     },
     "metadata": {},
     "output_type": "display_data"
    }
   ],
   "source": [
    "data_index = 0\n",
    "label_list = []\n",
    "for pri_label, secon_label, f_name in zip(tqdm.notebook.tqdm(train_meta['primary_label']), train_meta['secondary_labels'],train_meta['filename']):\n",
    "    data_index = audio_to_mel_label(input_path+f_name, min_sec_proc,'train', data_index, label_list, bird_label, [pri_label] + eval(secon_label))\n",
    "\n",
    "torch.save(np.stack(label_list), out_path + 'label_list.pt')\n",
    "label_list = torch.from_numpy(np.stack(label_list)).clone()"
   ]
  },
  {
   "cell_type": "markdown",
   "id": "03206d6f",
   "metadata": {
    "papermill": {
     "duration": 0.01674,
     "end_time": "2022-05-24T05:50:16.697727",
     "exception": false,
     "start_time": "2022-05-24T05:50:16.680987",
     "status": "completed"
    },
    "tags": []
   },
   "source": [
    "### Resnet"
   ]
  },
  {
   "cell_type": "code",
   "execution_count": 8,
   "id": "3afd3bec",
   "metadata": {
    "execution": {
     "iopub.execute_input": "2022-05-24T05:50:16.732376Z",
     "iopub.status.busy": "2022-05-24T05:50:16.732173Z",
     "iopub.status.idle": "2022-05-24T05:50:19.819087Z",
     "shell.execute_reply": "2022-05-24T05:50:19.818357Z"
    },
    "papermill": {
     "duration": 3.106581,
     "end_time": "2022-05-24T05:50:19.821165",
     "exception": false,
     "start_time": "2022-05-24T05:50:16.714584",
     "status": "completed"
    },
    "tags": []
   },
   "outputs": [],
   "source": [
    "n_output = len(bird_label)\n",
    "\n",
    "out_sigmoid = nn.Sigmoid()\n",
    "\n",
    "class ResNetBird(ResNet):\n",
    "    def __init__(self):\n",
    "        super().__init__(BasicBlock, [3, 4, 6, 3], num_classes=n_output)\n",
    "\n",
    "        self.conv1 = nn.Conv2d(1, 64, kernel_size=7, stride=1, padding=3, bias=False)\n",
    "\n",
    "        \n",
    "net = ResNetBird().to(device)"
   ]
  },
  {
   "cell_type": "markdown",
   "id": "d6593843",
   "metadata": {
    "papermill": {
     "duration": 0.017217,
     "end_time": "2022-05-24T05:50:19.855641",
     "exception": false,
     "start_time": "2022-05-24T05:50:19.838424",
     "status": "completed"
    },
    "tags": []
   },
   "source": [
    "### Train_val_split"
   ]
  },
  {
   "cell_type": "code",
   "execution_count": 9,
   "id": "c7f85bea",
   "metadata": {
    "execution": {
     "iopub.execute_input": "2022-05-24T05:50:19.890768Z",
     "iopub.status.busy": "2022-05-24T05:50:19.890548Z",
     "iopub.status.idle": "2022-05-24T05:50:19.896100Z",
     "shell.execute_reply": "2022-05-24T05:50:19.895466Z"
    },
    "papermill": {
     "duration": 0.02476,
     "end_time": "2022-05-24T05:50:19.897895",
     "exception": false,
     "start_time": "2022-05-24T05:50:19.873135",
     "status": "completed"
    },
    "tags": []
   },
   "outputs": [],
   "source": [
    "train_idx = np.arange(0, label_list.shape[0])\n",
    "\n",
    "data_len = train_idx.shape[0]\n",
    "train_idx, val_idx = torch.utils.data.random_split(train_idx, [int(data_len*0.8), data_len-int(data_len*0.8)])"
   ]
  },
  {
   "cell_type": "markdown",
   "id": "ff182883",
   "metadata": {
    "papermill": {
     "duration": 0.017076,
     "end_time": "2022-05-24T05:50:19.932256",
     "exception": false,
     "start_time": "2022-05-24T05:50:19.915180",
     "status": "completed"
    },
    "tags": []
   },
   "source": [
    "### Обучение"
   ]
  },
  {
   "cell_type": "code",
   "execution_count": 10,
   "id": "494261e7",
   "metadata": {
    "execution": {
     "iopub.execute_input": "2022-05-24T05:50:19.966837Z",
     "iopub.status.busy": "2022-05-24T05:50:19.966626Z",
     "iopub.status.idle": "2022-05-24T09:42:17.868956Z",
     "shell.execute_reply": "2022-05-24T09:42:17.868219Z"
    },
    "papermill": {
     "duration": 13917.922335,
     "end_time": "2022-05-24T09:42:17.871364",
     "exception": false,
     "start_time": "2022-05-24T05:50:19.949029",
     "status": "completed"
    },
    "tags": []
   },
   "outputs": [
    {
     "name": "stdout",
     "output_type": "stream",
     "text": [
      "Epoch [1/40], loss: 0.12389, val_loss: 0.12850\n",
      "Epoch [2/40], loss: 0.09693, val_loss: 0.10357\n",
      "Epoch [3/40], loss: 0.08202, val_loss: 0.07565\n",
      "Epoch [4/40], loss: 0.07247, val_loss: 0.07701\n",
      "Epoch [5/40], loss: 0.06463, val_loss: 0.07188\n",
      "Epoch [6/40], loss: 0.05663, val_loss: 0.05737\n",
      "Epoch [7/40], loss: 0.05108, val_loss: 0.05074\n",
      "Epoch [8/40], loss: 0.04548, val_loss: 0.05888\n",
      "Epoch [9/40], loss: 0.04088, val_loss: 0.05224\n",
      "Epoch [10/40], loss: 0.03568, val_loss: 0.04664\n",
      "Epoch [11/40], loss: 0.03215, val_loss: 0.05019\n",
      "Epoch [12/40], loss: 0.02785, val_loss: 0.04685\n",
      "Epoch [13/40], loss: 0.02463, val_loss: 0.03536\n",
      "Epoch [14/40], loss: 0.02180, val_loss: 0.03953\n",
      "Epoch [15/40], loss: 0.01910, val_loss: 0.03210\n",
      "Epoch [16/40], loss: 0.01625, val_loss: 0.04411\n",
      "Epoch [17/40], loss: 0.01378, val_loss: 0.03266\n",
      "Epoch [18/40], loss: 0.01221, val_loss: 0.08376\n",
      "Epoch [19/40], loss: 0.01030, val_loss: 0.03724\n",
      "Epoch [20/40], loss: 0.00904, val_loss: 0.03507\n",
      "Epoch [21/40], loss: 0.00879, val_loss: 0.03722\n",
      "Epoch [22/40], loss: 0.00792, val_loss: 0.03086\n",
      "Epoch [23/40], loss: 0.00612, val_loss: 0.03933\n",
      "Epoch [24/40], loss: 0.00597, val_loss: 0.03391\n",
      "Epoch [25/40], loss: 0.00591, val_loss: 0.03071\n",
      "Epoch [26/40], loss: 0.00541, val_loss: 0.05620\n",
      "Epoch [27/40], loss: 0.00599, val_loss: 0.03233\n",
      "Epoch [28/40], loss: 0.00480, val_loss: 0.03484\n",
      "Epoch [29/40], loss: 0.00398, val_loss: 0.03397\n",
      "Epoch [30/40], loss: 0.00563, val_loss: 0.04177\n",
      "Epoch [31/40], loss: 0.00378, val_loss: 0.02919\n",
      "Epoch [32/40], loss: 0.00190, val_loss: 0.03261\n",
      "Epoch [33/40], loss: 0.00453, val_loss: 0.03833\n",
      "Epoch [34/40], loss: 0.00281, val_loss: 0.03542\n",
      "Epoch [35/40], loss: 0.00309, val_loss: 0.02874\n",
      "Epoch [36/40], loss: 0.00221, val_loss: 0.03727\n",
      "Epoch [37/40], loss: 0.00355, val_loss: 0.03536\n",
      "Epoch [38/40], loss: 0.00329, val_loss: 0.03040\n",
      "Epoch [39/40], loss: 0.00141, val_loss: 0.03917\n",
      "Epoch [40/40], loss: 0.00303, val_loss: 0.03544\n"
     ]
    },
    {
     "data": {
      "image/png": "[encoded data removed]",
      "text/plain": [
       "<Figure size 720x720 with 1 Axes>"
      ]
     },
     "metadata": {
      "needs_background": "light"
     },
     "output_type": "display_data"
    }
   ],
   "source": [
    "num_epochs = 40\n",
    "lr = 0.001\n",
    "batch_size = 16\n",
    "\n",
    "criterion = nn.BCEWithLogitsLoss()\n",
    "optimizer = optim.Adam(net.parameters(), lr=lr)\n",
    "history = np.zeros((0, 3))\n",
    "\n",
    "train_loader = DataLoader(train_idx, batch_size=batch_size, shuffle=True)\n",
    "val_loader = DataLoader(val_idx, batch_size=batch_size, shuffle=False)\n",
    "\n",
    "\n",
    "for epoch in range(num_epochs):\n",
    "    train_loss, val_loss = 0, 0\n",
    "    n_train, n_val = 0, 0\n",
    "\n",
    "    net.train()\n",
    "    for idx in train_loader:\n",
    "        inputs, labels = get_X_y(out_path, idx, label_list)\n",
    "        \n",
    "        n_train += len(labels)\n",
    "        \n",
    "        inputs = inputs.to(device)\n",
    "        labels = labels.to(device)\n",
    "\n",
    "        optimizer.zero_grad()\n",
    "        outputs = net(inputs)\n",
    "        loss = criterion(outputs, labels)\n",
    "        loss.backward()\n",
    "        optimizer.step()\n",
    "        train_loss += loss.item()\n",
    "\n",
    "    net.eval()\n",
    "    with torch.no_grad():\n",
    "        for idx in val_loader:\n",
    "            inputs_val, labels_val = get_X_y(out_path, idx, label_list)\n",
    "            n_val += len(labels)\n",
    "\n",
    "            inputs_val = inputs_val.to(device)\n",
    "            labels_val = labels_val.to(device)\n",
    "\n",
    "            outputs_val = net(inputs_val)\n",
    "\n",
    "            loss_val = criterion(outputs_val, labels_val)\n",
    "\n",
    "            val_loss += loss_val.item()\n",
    "    \n",
    "\n",
    "    train_loss = train_loss * batch_size / n_train\n",
    "    val_loss = val_loss * batch_size / n_val\n",
    "    print (f'Epoch [{(epoch+1)}/{num_epochs}], loss: {train_loss:.5f}, val_loss: {val_loss:.5f}')\n",
    "    item = np.array([epoch+1, train_loss, val_loss])\n",
    "    history = np.vstack((history, item))\n",
    "\n",
    "torch.save(net.state_dict(), 'model.pt')\n",
    "plot_history(history)"
   ]
  },
  {
   "cell_type": "markdown",
   "id": "85cae511",
   "metadata": {
    "papermill": {
     "duration": 0.03035,
     "end_time": "2022-05-24T09:42:17.932668",
     "exception": false,
     "start_time": "2022-05-24T09:42:17.902318",
     "status": "completed"
    },
    "tags": []
   },
   "source": [
    "### Inference"
   ]
  },
  {
   "cell_type": "code",
   "execution_count": 11,
   "id": "3d44eaca",
   "metadata": {
    "execution": {
     "iopub.execute_input": "2022-05-24T09:42:17.996706Z",
     "iopub.status.busy": "2022-05-24T09:42:17.996085Z",
     "iopub.status.idle": "2022-05-24T09:42:18.008910Z",
     "shell.execute_reply": "2022-05-24T09:42:18.007833Z"
    },
    "papermill": {
     "duration": 0.047023,
     "end_time": "2022-05-24T09:42:18.011150",
     "exception": false,
     "start_time": "2022-05-24T09:42:17.964127",
     "status": "completed"
    },
    "tags": []
   },
   "outputs": [
    {
     "name": "stdout",
     "output_type": "stream",
     "text": [
      "Number of test soundscapes: 1\n"
     ]
    }
   ],
   "source": [
    "test_audio_dir = '../input/birdclef-2022/test_soundscapes/'\n",
    "file_list = [f.split('.')[0] for f in sorted(os.listdir(test_audio_dir))]\n",
    "\n",
    "print('Number of test soundscapes:', len(file_list))"
   ]
  },
  {
   "cell_type": "code",
   "execution_count": 12,
   "id": "431f7568",
   "metadata": {
    "execution": {
     "iopub.execute_input": "2022-05-24T09:42:18.076517Z",
     "iopub.status.busy": "2022-05-24T09:42:18.075765Z",
     "iopub.status.idle": "2022-05-24T09:42:18.393555Z",
     "shell.execute_reply": "2022-05-24T09:42:18.392837Z"
    },
    "papermill": {
     "duration": 0.351971,
     "end_time": "2022-05-24T09:42:18.395648",
     "exception": false,
     "start_time": "2022-05-24T09:42:18.043677",
     "status": "completed"
    },
    "tags": []
   },
   "outputs": [],
   "source": [
    "pred = {'row_id': [], 'target': []}\n",
    "binary_th = 0.30\n",
    "net.eval()\n",
    "\n",
    "for afile in file_list:\n",
    "    \n",
    "    path = test_audio_dir + afile + '.ogg'\n",
    "    \n",
    "    chunks = [[] for i in range(12)]\n",
    "    \n",
    "    mel_list_test = []\n",
    "    mel_list_test = audio_to_mel_label(path, min_sec_proc,'test', mel_list=mel_list_test)\n",
    "    mel_list_test = torch.stack(mel_list_test).to(device)\n",
    "    \n",
    "    outputs = net(mel_list_test)\n",
    "    \n",
    "    outputs_test = out_sigmoid(outputs)\n",
    "    \n",
    "    for idx, i in enumerate(range(len(chunks))):        \n",
    "        chunk_end_time = (i + 1) * 5\n",
    "        for bird in scored_birds:\n",
    "            \n",
    "            try:\n",
    "                score = outputs_test[idx][np.where(bird_label==bird)]\n",
    "            except IndexError:\n",
    "                score = 0\n",
    "            \n",
    "            row_id = afile + '_' + bird + '_' + str(chunk_end_time)\n",
    "            \n",
    "            pred['row_id'].append(row_id)\n",
    "            pred['target'].append(True if score > binary_th else False)"
   ]
  },
  {
   "cell_type": "markdown",
   "id": "f1d4da14",
   "metadata": {
    "papermill": {
     "duration": 0.031698,
     "end_time": "2022-05-24T09:42:18.458848",
     "exception": false,
     "start_time": "2022-05-24T09:42:18.427150",
     "status": "completed"
    },
    "tags": []
   },
   "source": [
    "### Submit"
   ]
  },
  {
   "cell_type": "code",
   "execution_count": 13,
   "id": "d9dc95cb",
   "metadata": {
    "execution": {
     "iopub.execute_input": "2022-05-24T09:42:18.521911Z",
     "iopub.status.busy": "2022-05-24T09:42:18.521438Z",
     "iopub.status.idle": "2022-05-24T09:42:18.536615Z",
     "shell.execute_reply": "2022-05-24T09:42:18.535235Z"
    },
    "papermill": {
     "duration": 0.048749,
     "end_time": "2022-05-24T09:42:18.538390",
     "exception": false,
     "start_time": "2022-05-24T09:42:18.489641",
     "status": "completed"
    },
    "tags": []
   },
   "outputs": [
    {
     "name": "stdout",
     "output_type": "stream",
     "text": [
      "0      False\n",
      "1      False\n",
      "2      False\n",
      "3      False\n",
      "4      False\n",
      "       ...  \n",
      "247    False\n",
      "248    False\n",
      "249     True\n",
      "250    False\n",
      "251    False\n",
      "Name: target, Length: 252, dtype: bool\n"
     ]
    }
   ],
   "source": [
    "results = pd.DataFrame(pred, columns = ['row_id', 'target'])\n",
    "\n",
    "print(results['target']) \n",
    "    \n",
    "results.to_csv(\"submission.csv\", index=False) "
   ]
  },
  {
   "cell_type": "code",
   "execution_count": 14,
   "id": "c4100c55",
   "metadata": {
    "execution": {
     "iopub.execute_input": "2022-05-24T09:42:18.602671Z",
     "iopub.status.busy": "2022-05-24T09:42:18.602444Z",
     "iopub.status.idle": "2022-05-24T09:42:18.606263Z",
     "shell.execute_reply": "2022-05-24T09:42:18.605538Z"
    },
    "papermill": {
     "duration": 0.038223,
     "end_time": "2022-05-24T09:42:18.608096",
     "exception": false,
     "start_time": "2022-05-24T09:42:18.569873",
     "status": "completed"
    },
    "tags": []
   },
   "outputs": [],
   "source": [
    "OUTPUT_DATA_DELETE = False\n",
    "\n",
    "if OUTPUT_DATA_DELETE == True:\n",
    "    shutil.rmtree(out_path)\n",
    "    os.remove('model.pt')"
   ]
  }
 ],
 "metadata": {
  "kernelspec": {
   "display_name": "Python 3",
   "language": "python",
   "name": "python3"
  },
  "language_info": {
   "codemirror_mode": {
    "name": "ipython",
    "version": 3
   },
   "file_extension": ".py",
   "mimetype": "text/x-python",
   "name": "python",
   "nbconvert_exporter": "python",
   "pygments_lexer": "ipython3",
   "version": "3.7.12"
  },
  "papermill": {
   "default_parameters": {},
   "duration": 14196.961894,
   "end_time": "2022-05-24T09:42:21.039696",
   "environment_variables": {},
   "exception": null,
   "input_path": "__notebook__.ipynb",
   "output_path": "__notebook__.ipynb",
   "parameters": {},
   "start_time": "2022-05-24T05:45:44.077802",
   "version": "2.3.4"
  },
  "widgets": {
   "application/vnd.jupyter.widget-state+json": {
    "state": {
     "0467bc6ebc654ff88bf5c0a5b3905573": {
      "model_module": "@jupyter-widgets/base",
      "model_module_version": "1.2.0",
      "model_name": "LayoutModel",
      "state": {
       "_model_module": "@jupyter-widgets/base",
       "_model_module_version": "1.2.0",
       "_model_name": "LayoutModel",
       "_view_count": null,
       "_view_module": "@jupyter-widgets/base",
       "_view_module_version": "1.2.0",
       "_view_name": "LayoutView",
       "align_content": null,
       "align_items": null,
       "align_self": null,
       "border": null,
       "bottom": null,
       "display": null,
       "flex": null,
       "flex_flow": null,
       "grid_area": null,
       "grid_auto_columns": null,
       "grid_auto_flow": null,
       "grid_auto_rows": null,
       "grid_column": null,
       "grid_gap": null,
       "grid_row": null,
       "grid_template_areas": null,
       "grid_template_columns": null,
       "grid_template_rows": null,
       "height": null,
       "justify_content": null,
       "justify_items": null,
       "left": null,
       "margin": null,
       "max_height": null,
       "max_width": null,
       "min_height": null,
       "min_width": null,
       "object_fit": null,
       "object_position": null,
       "order": null,
       "overflow": null,
       "overflow_x": null,
       "overflow_y": null,
       "padding": null,
       "right": null,
       "top": null,
       "visibility": null,
       "width": null
      }
     },
     "2fa3077d6c754a7d9967c26667effc4c": {
      "model_module": "@jupyter-widgets/base",
      "model_module_version": "1.2.0",
      "model_name": "LayoutModel",
      "state": {
       "_model_module": "@jupyter-widgets/base",
       "_model_module_version": "1.2.0",
       "_model_name": "LayoutModel",
       "_view_count": null,
       "_view_module": "@jupyter-widgets/base",
       "_view_module_version": "1.2.0",
       "_view_name": "LayoutView",
       "align_content": null,
       "align_items": null,
       "align_self": null,
       "border": null,
       "bottom": null,
       "display": null,
       "flex": null,
       "flex_flow": null,
       "grid_area": null,
       "grid_auto_columns": null,
       "grid_auto_flow": null,
       "grid_auto_rows": null,
       "grid_column": null,
       "grid_gap": null,
       "grid_row": null,
       "grid_template_areas": null,
       "grid_template_columns": null,
       "grid_template_rows": null,
       "height": null,
       "justify_content": null,
       "justify_items": null,
       "left": null,
       "margin": null,
       "max_height": null,
       "max_width": null,
       "min_height": null,
       "min_width": null,
       "object_fit": null,
       "object_position": null,
       "order": null,
       "overflow": null,
       "overflow_x": null,
       "overflow_y": null,
       "padding": null,
       "right": null,
       "top": null,
       "visibility": null,
       "width": null
      }
     },
     "5c2fb89c7160499ea9ad5090c545f8b7": {
      "model_module": "@jupyter-widgets/controls",
      "model_module_version": "1.5.0",
      "model_name": "ProgressStyleModel",
      "state": {
       "_model_module": "@jupyter-widgets/controls",
       "_model_module_version": "1.5.0",
       "_model_name": "ProgressStyleModel",
       "_view_count": null,
       "_view_module": "@jupyter-widgets/base",
       "_view_module_version": "1.2.0",
       "_view_name": "StyleView",
       "bar_color": null,
       "description_width": ""
      }
     },
     "5cc0efc74a40457780eb1e35df85be13": {
      "model_module": "@jupyter-widgets/controls",
      "model_module_version": "1.5.0",
      "model_name": "HBoxModel",
      "state": {
       "_dom_classes": [],
       "_model_module": "@jupyter-widgets/controls",
       "_model_module_version": "1.5.0",
       "_model_name": "HBoxModel",
       "_view_count": null,
       "_view_module": "@jupyter-widgets/controls",
       "_view_module_version": "1.5.0",
       "_view_name": "HBoxView",
       "box_style": "",
       "children": [
        "IPY_MODEL_c5e496a0879a4252aa8397f03bb82e65",
        "IPY_MODEL_ca9aa02ea638409abbe60dc560512962",
        "IPY_MODEL_a74b3653318b4a6cb421c67e50445bb7"
       ],
       "layout": "IPY_MODEL_2fa3077d6c754a7d9967c26667effc4c"
      }
     },
     "a74982ccfb6b4ad8a3a25d32e9c216f9": {
      "model_module": "@jupyter-widgets/controls",
      "model_module_version": "1.5.0",
      "model_name": "DescriptionStyleModel",
      "state": {
       "_model_module": "@jupyter-widgets/controls",
       "_model_module_version": "1.5.0",
       "_model_name": "DescriptionStyleModel",
       "_view_count": null,
       "_view_module": "@jupyter-widgets/base",
       "_view_module_version": "1.2.0",
       "_view_name": "StyleView",
       "description_width": ""
      }
     },
     "a74b3653318b4a6cb421c67e50445bb7": {
      "model_module": "@jupyter-widgets/controls",
      "model_module_version": "1.5.0",
      "model_name": "HTMLModel",
      "state": {
       "_dom_classes": [],
       "_model_module": "@jupyter-widgets/controls",
       "_model_module_version": "1.5.0",
       "_model_name": "HTMLModel",
       "_view_count": null,
       "_view_module": "@jupyter-widgets/controls",
       "_view_module_version": "1.5.0",
       "_view_name": "HTMLView",
       "description": "",
       "description_tooltip": null,
       "layout": "IPY_MODEL_0467bc6ebc654ff88bf5c0a5b3905573",
       "placeholder": "​",
       "style": "IPY_MODEL_a74982ccfb6b4ad8a3a25d32e9c216f9",
       "value": " 1266/1266 [04:21&lt;00:00,  7.08it/s]"
      }
     },
     "ae22ae504a2747fa95ad7dce4beeced3": {
      "model_module": "@jupyter-widgets/controls",
      "model_module_version": "1.5.0",
      "model_name": "DescriptionStyleModel",
      "state": {
       "_model_module": "@jupyter-widgets/controls",
       "_model_module_version": "1.5.0",
       "_model_name": "DescriptionStyleModel",
       "_view_count": null,
       "_view_module": "@jupyter-widgets/base",
       "_view_module_version": "1.2.0",
       "_view_name": "StyleView",
       "description_width": ""
      }
     },
     "c5e496a0879a4252aa8397f03bb82e65": {
      "model_module": "@jupyter-widgets/controls",
      "model_module_version": "1.5.0",
      "model_name": "HTMLModel",
      "state": {
       "_dom_classes": [],
       "_model_module": "@jupyter-widgets/controls",
       "_model_module_version": "1.5.0",
       "_model_name": "HTMLModel",
       "_view_count": null,
       "_view_module": "@jupyter-widgets/controls",
       "_view_module_version": "1.5.0",
       "_view_name": "HTMLView",
       "description": "",
       "description_tooltip": null,
       "layout": "IPY_MODEL_fbb1553a3b734f2890773dcd9bc6d582",
       "placeholder": "​",
       "style": "IPY_MODEL_ae22ae504a2747fa95ad7dce4beeced3",
       "value": "100%"
      }
     },
     "c67cae50b5894582a59f9e8344adf4f0": {
      "model_module": "@jupyter-widgets/base",
      "model_module_version": "1.2.0",
      "model_name": "LayoutModel",
      "state": {
       "_model_module": "@jupyter-widgets/base",
       "_model_module_version": "1.2.0",
       "_model_name": "LayoutModel",
       "_view_count": null,
       "_view_module": "@jupyter-widgets/base",
       "_view_module_version": "1.2.0",
       "_view_name": "LayoutView",
       "align_content": null,
       "align_items": null,
       "align_self": null,
       "border": null,
       "bottom": null,
       "display": null,
       "flex": null,
       "flex_flow": null,
       "grid_area": null,
       "grid_auto_columns": null,
       "grid_auto_flow": null,
       "grid_auto_rows": null,
       "grid_column": null,
       "grid_gap": null,
       "grid_row": null,
       "grid_template_areas": null,
       "grid_template_columns": null,
       "grid_template_rows": null,
       "height": null,
       "justify_content": null,
       "justify_items": null,
       "left": null,
       "margin": null,
       "max_height": null,
       "max_width": null,
       "min_height": null,
       "min_width": null,
       "object_fit": null,
       "object_position": null,
       "order": null,
       "overflow": null,
       "overflow_x": null,
       "overflow_y": null,
       "padding": null,
       "right": null,
       "top": null,
       "visibility": null,
       "width": null
      }
     },
     "ca9aa02ea638409abbe60dc560512962": {
      "model_module": "@jupyter-widgets/controls",
      "model_module_version": "1.5.0",
      "model_name": "FloatProgressModel",
      "state": {
       "_dom_classes": [],
       "_model_module": "@jupyter-widgets/controls",
       "_model_module_version": "1.5.0",
       "_model_name": "FloatProgressModel",
       "_view_count": null,
       "_view_module": "@jupyter-widgets/controls",
       "_view_module_version": "1.5.0",
       "_view_name": "ProgressView",
       "bar_style": "success",
       "description": "",
       "description_tooltip": null,
       "layout": "IPY_MODEL_c67cae50b5894582a59f9e8344adf4f0",
       "max": 1266.0,
       "min": 0.0,
       "orientation": "horizontal",
       "style": "IPY_MODEL_5c2fb89c7160499ea9ad5090c545f8b7",
       "value": 1266.0
      }
     },
     "fbb1553a3b734f2890773dcd9bc6d582": {
      "model_module": "@jupyter-widgets/base",
      "model_module_version": "1.2.0",
      "model_name": "LayoutModel",
      "state": {
       "_model_module": "@jupyter-widgets/base",
       "_model_module_version": "1.2.0",
       "_model_name": "LayoutModel",
       "_view_count": null,
       "_view_module": "@jupyter-widgets/base",
       "_view_module_version": "1.2.0",
       "_view_name": "LayoutView",
       "align_content": null,
       "align_items": null,
       "align_self": null,
       "border": null,
       "bottom": null,
       "display": null,
       "flex": null,
       "flex_flow": null,
       "grid_area": null,
       "grid_auto_columns": null,
       "grid_auto_flow": null,
       "grid_auto_rows": null,
       "grid_column": null,
       "grid_gap": null,
       "grid_row": null,
       "grid_template_areas": null,
       "grid_template_columns": null,
       "grid_template_rows": null,
       "height": null,
       "justify_content": null,
       "justify_items": null,
       "left": null,
       "margin": null,
       "max_height": null,
       "max_width": null,
       "min_height": null,
       "min_width": null,
       "object_fit": null,
       "object_position": null,
       "order": null,
       "overflow": null,
       "overflow_x": null,
       "overflow_y": null,
       "padding": null,
       "right": null,
       "top": null,
       "visibility": null,
       "width": null
      }
     }
    },
    "version_major": 2,
    "version_minor": 0
   }
  }
 },
 "nbformat": 4,
 "nbformat_minor": 5
}
